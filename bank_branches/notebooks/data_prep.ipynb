{
 "cells": [
  {
   "cell_type": "markdown",
   "id": "d4da64f0",
   "metadata": {},
   "source": [
    "# Preparing summary data for AIB bank location and reviews\n",
    "\n",
    "Collected data using google maps for AIB bank branch locations and phone numbers in Dublin area. Removed any ATMs, head office or other types of sites that were not interacting with customers.\n",
    "\n",
    "Used unique phone numbers to collect the average rating /5 on google reviews and the amount of reviews posted. \n",
    "\n",
    "This data can now be used to select branch reviews with different scores."
   ]
  },
  {
   "cell_type": "code",
   "execution_count": 1,
   "id": "76481150",
   "metadata": {},
   "outputs": [],
   "source": [
    "import pandas as pd #pandas for panel data\n",
    "import re # regex for matching expressions to filter dataset"
   ]
  },
  {
   "cell_type": "code",
   "execution_count": 2,
   "id": "e332e06b",
   "metadata": {},
   "outputs": [],
   "source": [
    "# load in scraped data for 'AIB in Dublin' google maps search\n",
    "\n",
    "df = pd.read_csv(\"../data/aib_dublin.csv\")\n",
    "\n",
    "#remove any rows containing ATM data or other types site, only want banks not head office etc\n",
    "\n",
    "df = df[~df['OSrXXb'].str.contains(\"ATM|Lobby|Merchant|Limited|Head|Corporate|Allied|Direct\")].reset_index(drop=True)\n",
    "\n",
    "# remove branches temporarily closed for now\n",
    "\n",
    "df = df[~df['rllt__details 3'].str.contains(\"Temporarily\")].reset_index(drop=True)\n",
    "\n",
    "# drop some unnecessary columns\n",
    "df.drop(columns=['UbRuwe', 'yYlJEf href', 'BSaJxc', 'yYlJEf href 2', 'rllt__details 2', 'rllt__details 3'], inplace=True)\n",
    "\n",
    "# get rid of commas in details\n",
    "df['rllt__details'] = df['rllt__details'].str.replace(',','')\n",
    "\n",
    "# rename columns\n",
    "df.rename(columns={'OSrXXb':'name', 'rllt__details':'location'}, inplace=True)"
   ]
  },
  {
   "cell_type": "code",
   "execution_count": 3,
   "id": "e380c0c7",
   "metadata": {},
   "outputs": [],
   "source": [
    "# the data has a 'location' column with a phone number in it. I want to extract the number to a new column to make sure there are no duplicate numbers\n",
    "# the numbers begin with the symbol ·  so will match this with regex and extract after that\n",
    "\n",
    "# Define a function to extract text after the symbol ∑\n",
    "def extract_text_after_symbol(text):\n",
    "    # Use regex to find and extract text after the symbol ∑\n",
    "    match = re.search(r'·\\s*(.*)', text)\n",
    "    if match:\n",
    "        return match.group(1)  # Return the captured text after the symbol\n",
    "    else:\n",
    "        return None  # Return None if the symbol is not found\n",
    "\n",
    "# Create the 'number' column by applying the extract_text_after_symbol function\n",
    "df['number'] = df['location'].apply(extract_text_after_symbol)\n",
    "\n",
    "# use pattern to remove the numbers from the location columns now\n",
    "df['location'] = df['location'].str.replace(r'·(.*)', '', regex=True)\n",
    "\n",
    "# Drop all duplicates in the 'number' column except for first one\n",
    "df.drop_duplicates(subset=['number'], keep='first', inplace=True)"
   ]
  },
  {
   "cell_type": "code",
   "execution_count": 4,
   "id": "feb786a2",
   "metadata": {},
   "outputs": [],
   "source": [
    "# write this to csv\n",
    "df.to_csv(\"../data/aib_banks_dublin_cleaned.csv\", index=False)"
   ]
  },
  {
   "cell_type": "code",
   "execution_count": 5,
   "id": "95460f49",
   "metadata": {},
   "outputs": [
    {
     "data": {
      "text/html": [
       "<div>\n",
       "<style scoped>\n",
       "    .dataframe tbody tr th:only-of-type {\n",
       "        vertical-align: middle;\n",
       "    }\n",
       "\n",
       "    .dataframe tbody tr th {\n",
       "        vertical-align: top;\n",
       "    }\n",
       "\n",
       "    .dataframe thead th {\n",
       "        text-align: right;\n",
       "    }\n",
       "</style>\n",
       "<table border=\"1\" class=\"dataframe\">\n",
       "  <thead>\n",
       "    <tr style=\"text-align: right;\">\n",
       "      <th></th>\n",
       "      <th>name</th>\n",
       "      <th>location</th>\n",
       "      <th>number</th>\n",
       "      <th>google_rating</th>\n",
       "      <th>num_reviews</th>\n",
       "    </tr>\n",
       "  </thead>\n",
       "  <tbody>\n",
       "    <tr>\n",
       "      <th>0</th>\n",
       "      <td>AIB Bank</td>\n",
       "      <td>100 101 Grafton Street</td>\n",
       "      <td>(01) 671 3011</td>\n",
       "      <td>2.9</td>\n",
       "      <td>109</td>\n",
       "    </tr>\n",
       "    <tr>\n",
       "      <th>1</th>\n",
       "      <td>AIB Bank</td>\n",
       "      <td>7/12 Dame St</td>\n",
       "      <td>(01) 679 3211</td>\n",
       "      <td>2.9</td>\n",
       "      <td>45</td>\n",
       "    </tr>\n",
       "    <tr>\n",
       "      <th>2</th>\n",
       "      <td>AIB IFSC</td>\n",
       "      <td>Dublin 1</td>\n",
       "      <td>(01) 829 1880</td>\n",
       "      <td>4</td>\n",
       "      <td>1</td>\n",
       "    </tr>\n",
       "    <tr>\n",
       "      <th>3</th>\n",
       "      <td>AIB Bank</td>\n",
       "      <td>61 Richmond St S</td>\n",
       "      <td>(01) 478 4533</td>\n",
       "      <td>1.9</td>\n",
       "      <td>49</td>\n",
       "    </tr>\n",
       "    <tr>\n",
       "      <th>4</th>\n",
       "      <td>AIB Bank</td>\n",
       "      <td>126 128 Capel St</td>\n",
       "      <td>(01) 872 1022</td>\n",
       "      <td>3.3</td>\n",
       "      <td>127</td>\n",
       "    </tr>\n",
       "  </tbody>\n",
       "</table>\n",
       "</div>"
      ],
      "text/plain": [
       "       name                 location         number google_rating num_reviews\n",
       "0  AIB Bank  100 101 Grafton Street   (01) 671 3011           2.9         109\n",
       "1  AIB Bank            7/12 Dame St   (01) 679 3211           2.9          45\n",
       "2  AIB IFSC                Dublin 1   (01) 829 1880             4           1\n",
       "3  AIB Bank        61 Richmond St S   (01) 478 4533           1.9          49\n",
       "4  AIB Bank        126 128 Capel St   (01) 872 1022           3.3         127"
      ]
     },
     "execution_count": 5,
     "metadata": {},
     "output_type": "execute_result"
    }
   ],
   "source": [
    "# used the phone numbers to collect review summary data from google. Merge this with df using the unique numbers\n",
    "\n",
    "review_summary = pd.read_csv(\"../data/number_reviews.csv\")\n",
    "\n",
    "df_merged = df.merge(review_summary, on = 'number')\n",
    "\n",
    "df_merged.head()"
   ]
  },
  {
   "cell_type": "code",
   "execution_count": 7,
   "id": "bc70628c",
   "metadata": {},
   "outputs": [],
   "source": [
    "# write to csv \n",
    "\n",
    "df_merged.to_csv(\"../data/aib_dublin_reviews_summary.csv\", index=False)"
   ]
  }
 ],
 "metadata": {
  "kernelspec": {
   "display_name": "Python 3 (ipykernel)",
   "language": "python",
   "name": "python3"
  },
  "language_info": {
   "codemirror_mode": {
    "name": "ipython",
    "version": 3
   },
   "file_extension": ".py",
   "mimetype": "text/x-python",
   "name": "python",
   "nbconvert_exporter": "python",
   "pygments_lexer": "ipython3",
   "version": "3.9.13"
  }
 },
 "nbformat": 4,
 "nbformat_minor": 5
}
